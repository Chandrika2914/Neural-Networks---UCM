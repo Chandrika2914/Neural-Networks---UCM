{
 "cells": [
  {
   "cell_type": "markdown",
   "metadata": {},
   "source": [
    "### PART 1\n",
    "        a) Write a program that takes two strings from the user: first_name, last_name. \n",
    "        b) Write function named “string_alternative” that returns every other char in the full_name string."
   ]
  },
  {
   "cell_type": "code",
   "execution_count": 1,
   "metadata": {},
   "outputs": [],
   "source": [
    "\n",
    "# Function fullname is to combine first and last name\n",
    "def fullname(firstname, lastname):\n",
    "    space = ' ' # variable for separating words\n",
    "    return firstname + space + lastname # combine the first name and last name with space in between\n",
    "\n",
    "# Function to return every other charater \n",
    "def string_alternative(fullname):\n",
    "    return fullname[::2] # Slices the string to include every second character\n",
    "\n",
    "# main method\n",
    "if __name__ == '_main_': \n",
    "    firstname = input(\"Enter first name: \\n\") # Input will help get the first name\n",
    "    lastname = input(\"\\nEnter last name: \\n\") # Input will help get the last name\n",
    "    name = fullname(firstname,lastname) # call fullname function\n",
    "    print(\"\\nFull Name:\", name) # print\n",
    "    alternative = string_alternative(name) # call string alternative function\n",
    "    print(\"String Alternative:\", alternative) # print"
   ]
  },
  {
   "cell_type": "markdown",
   "metadata": {},
   "source": [
    "### PART 2\n",
    "        Write a python program to find the wordcount in a file (input.txt) for each line and then print the output."
   ]
  },
  {
   "cell_type": "code",
   "execution_count": 18,
   "metadata": {},
   "outputs": [
    {
     "name": "stdout",
     "output_type": "stream",
     "text": [
      "check how dictionary is: {'Python': 1, 'Course': 2, 'Deep': 1, 'Learning': 1}\n",
      "writting output file is completed...\n"
     ]
    }
   ],
   "source": [
    "# Function wordcount is to count the words in an input file and save output in output.txt\n",
    "def countwords(inputfile, outputfile = 'output.txt'):\n",
    "    words_count = {} # dictinory to store the words count like {\"hi\":2}\n",
    "    # open the input file and read all the lins\n",
    "    with open(inputfile, 'r') as in_file: # read mode\n",
    "        all_lines = in_file.readlines()  # Read all lines in the file\n",
    "\n",
    "    # Iterate over each line\n",
    "    for line in all_lines:\n",
    "        words = line.split() # Split the line into words, split method return a list like ['hi','good'] \n",
    "        for currentword in words: # Iterate over each words list\n",
    "            # first check if the current word is already in the word_count dictionary \n",
    "            if currentword in words_count.keys(): # if word exists in the dictionary, increment its count by 1\n",
    "                words_count[currentword] += 1\n",
    "            else:\n",
    "                words_count[currentword] = 1 # if word not in the dictionary, new entry is added to dictinoary with the word as key and count as 1 \n",
    "    print(\"check how dictionary is:\", words_count) # print\n",
    "\n",
    "    # open the output file and write all the lines using dictionary\n",
    "    with open(outputfile, 'w') as out_file: # write mode\n",
    "        out_file.writelines(all_lines) # Write the original lines to the output file\n",
    "        out_file.write(\"\\nWord_Count:\\n\") #header same as ouput of the task\n",
    "        for word, count in words_count.items(): # Iterate over items in dictionary words_count\n",
    "            space = \": \"  # variable for separating words and count\n",
    "            line = word+space+str(count)+\"\\n\"\n",
    "            out_file.write(line)\n",
    "    print(\"writting output file is completed...\") # print for confirmation\n",
    "            \n",
    "countwords(\"input.txt\")"
   ]
  },
  {
   "cell_type": "markdown",
   "metadata": {},
   "source": [
    "### PART 3\n",
    "        Write a program, which reads heights (inches.) of customersinto a list and convert these\n",
    "        heights to centimeters in a separate list using:\n",
    "        1) Nested Interactive loop.\n",
    "        2) List comprehensions"
   ]
  },
  {
   "cell_type": "markdown",
   "metadata": {},
   "source": [
    "####     Using Nested Interactive loop"
   ]
  },
  {
   "cell_type": "code",
   "execution_count": 7,
   "metadata": {},
   "outputs": [
    {
     "name": "stdout",
     "output_type": "stream",
     "text": [
      "Output: [381.0, 393.7, 368.3, 375.92]\n"
     ]
    }
   ],
   "source": [
    "# Function t convert heights from inches to centimeters using a nested loop\n",
    "def convert_heights_nestedloop(heights_dictionary):\n",
    "    heights_cm = [] # list to store heights in centimeters\n",
    "    for key in heights_dictionary: # Loop through each key in the dictinoary \n",
    "        if key == \"L1\": # condition check if current key is \"L1\", which contains the list of heights\n",
    "            for height in heights_dictionary[key]: # loop through the list of heights associated with \"L1\"\n",
    "                cm = height * 2.54 # 1 inche = 2.54 centimeters \n",
    "                cm = round(cm, 2) # round to 2 decimal places\n",
    "                heights_cm.append(cm) # append the converted height into heights_cm list\n",
    "    return heights_cm\n",
    "\n",
    "heights = {\n",
    "    \"L1\": [150,155, 145, 148],  # List of heights in inches\n",
    "    \"unit\": \"inches\"  # Unit for the heights\n",
    "} # input dictionary containing heights in inches\n",
    "Outputlist_nestedloop = convert_heights_nestedloop(heights) # call function convert_heights_nestedloop\n",
    "print(\"Output:\",Outputlist_nestedloop) # print output"
   ]
  },
  {
   "cell_type": "markdown",
   "metadata": {},
   "source": [
    "#### Using List comprehensions"
   ]
  },
  {
   "cell_type": "code",
   "execution_count": 9,
   "metadata": {},
   "outputs": [
    {
     "name": "stdout",
     "output_type": "stream",
     "text": [
      "Output List comprehensions: [381.0, 393.7, 368.3, 375.92]\n"
     ]
    }
   ],
   "source": [
    "# Convert heights (inches) to centimeters using list comprehensions\n",
    "heights = {\n",
    "    \"L1\": [150,155, 145, 148],  # List of heights in inches\n",
    "    \"unit\": \"inches\" #  Unit for the heights\n",
    "} # input dictionary containing heights in inches\n",
    "\n",
    "# Using list comprehension to convert each height in inches to centimeters and round to 2 decimal places\n",
    "Outputlist_comprehensions = [round(height * 2.54, 2) for height in heights.get(\"L1\", [])]\n",
    "print(\"Output List comprehensions:\", Outputlist_comprehensions) # print output"
   ]
  }
 ],
 "metadata": {
  "kernelspec": {
   "display_name": "Python 3 (ipykernel)",
   "language": "python",
   "name": "python3"
  },
  "language_info": {
   "codemirror_mode": {
    "name": "ipython",
    "version": 3
   },
   "file_extension": ".py",
   "mimetype": "text/x-python",
   "name": "python",
   "nbconvert_exporter": "python",
   "pygments_lexer": "ipython3",
   "version": "3.12.5"
  }
 },
 "nbformat": 4,
 "nbformat_minor": 4
}
