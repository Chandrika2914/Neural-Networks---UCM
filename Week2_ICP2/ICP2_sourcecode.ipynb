{
 "cells": [
  {
   "cell_type": "markdown",
   "metadata": {},
   "source": [
    "#### Link to video: https://drive.google.com/file/d/1Ni3zy1n3UcZ-LoW_KALTiqZhVlbefxZi/view?usp=sharing"
   ]
  },
  {
   "cell_type": "markdown",
   "metadata": {},
   "source": [
    "## PART 1:\n",
    "### Create a class Employee and then do the following\n",
    "• Create a data member to count the number of Employees\n",
    "\n",
    "• Create a constructor to initialize name, family, salary, department\n",
    "\n",
    "• Create a function to average salary\n",
    "\n",
    "• Create a Fulltime Employee class and it should inherit the properties of Employee class\n",
    "\n",
    "• Create the instances of Fulltime Employee class and Employee class and call their member functions."
   ]
  },
  {
   "cell_type": "code",
   "execution_count": 5,
   "metadata": {},
   "outputs": [
    {
     "name": "stdout",
     "output_type": "stream",
     "text": [
      "Total number of employees: 4\n",
      "The Average Salary: 60250.0\n"
     ]
    }
   ],
   "source": [
    "# a. Class Employee\n",
    "class Employee():\n",
    "    # b. To count the number of Employees\n",
    "    count_employee = 0\n",
    "    def __init__(self, name, family, salary, department): # c. name, family, salary, department\n",
    "        self.name = name\n",
    "        self.family = family\n",
    "        self.salary = salary\n",
    "        self.department = department\n",
    "        Employee.count_employee += 1\n",
    "\n",
    "    @staticmethod # the method belong to the class but independent of any instance\n",
    "    # d. function to average salary\n",
    "    def average_salary(employee_lst):\n",
    "        totalSalary = sum(employee.salary for employee in employee_lst)\n",
    "        averageSalary = totalSalary / len(employee_lst)\n",
    "        return averageSalary\n",
    "\n",
    "# e. class FulltimeEmployee inheriting from Class Employee\n",
    "class FulltimeEmployee(Employee):\n",
    "    def __init__(self, name, family, salary, department):\n",
    "        super().__init__(name, family, salary, department)  \n",
    "\n",
    "# f. Create the instances of Fulltime Employee class and Employee class and call their member functions.\n",
    "employee1 = Employee(\"Chandrika\", \"patibandla\", 50000, \"IT\")\n",
    "employee2 = Employee(\"Avinash\", \"Mandava\", 80000, \"Doctor\")\n",
    "\n",
    "fulltime_employee1= FulltimeEmployee(\"Sindhura\", \"Deshpande\", 45000, \"IT\")\n",
    "fulltime_employee2 = FulltimeEmployee(\"Venkatesh\", \"Iyer\", 66000, \"Testing\")\n",
    "\n",
    "# List of all employees\n",
    "employees = [employee1, employee2, fulltime_employee1, fulltime_employee2]\n",
    "\n",
    "# Print employee count\n",
    "print(\"Total number of employees:\", Employee.count_employee)\n",
    "\n",
    "# Print average salary\n",
    "avg_salary = Employee.average_salary(employees)\n",
    "print(\"The Average Salary:\",avg_salary)\n"
   ]
  },
  {
   "cell_type": "markdown",
   "metadata": {},
   "source": [
    "## PART 2\n",
    "\n",
    "### Numpy\n",
    "Using NumPy create random vector of size 20 having only float in the range 1-20.\n",
    "\n",
    "Then reshape the array to 4 by 5\n",
    "\n",
    "Then replace the max in each row by 0 (axis=1)\n",
    "(NOT implement it via for loop)"
   ]
  },
  {
   "cell_type": "code",
   "execution_count": 9,
   "metadata": {},
   "outputs": [
    {
     "name": "stdout",
     "output_type": "stream",
     "text": [
      "Matrix:\n",
      " [[12.19771163 12.22344314  9.87382482 17.39683708  1.55367721]\n",
      " [12.3375415   4.37003409 10.93354947  6.76491874 11.60951792]\n",
      " [ 6.28383449  9.71176284 18.16971191 14.99727711  1.99563201]\n",
      " [11.44668342  9.91039695 18.31202018 19.98791535 13.93133135]]\n",
      "\n",
      "Max Indices are:\n",
      " [3 0 2 3]\n",
      "\n",
      "Matrix after replacing max value in each row with 0:\n",
      " [[12.19771163 12.22344314  9.87382482  0.          1.55367721]\n",
      " [ 0.          4.37003409 10.93354947  6.76491874 11.60951792]\n",
      " [ 6.28383449  9.71176284  0.         14.99727711  1.99563201]\n",
      " [11.44668342  9.91039695 18.31202018  0.         13.93133135]]\n"
     ]
    }
   ],
   "source": [
    "import numpy as np\n",
    "\n",
    "# a. Create a random vector of size 20 with floats in the range 1-20\n",
    "random_vector = np.random.uniform(1, 20, 20)\n",
    "\n",
    "# reshape into 4 by 5\n",
    "matrix = random_vector.reshape(4,5)\n",
    "\n",
    "# print original\n",
    "print(\"Matrix:\\n\",matrix)\n",
    "\n",
    "# get indices of max value in each row\n",
    "max_indx = np.argmax(matrix, axis=1)\n",
    "print(\"\\nMax Indices are:\\n\",max_indx)\n",
    "\n",
    "# copy the matrix and named as matrix with zeros\n",
    "matrix_with_zeros = matrix.copy()\n",
    "# replace max values with 0 using indexs\n",
    "matrix_with_zeros[np.arange(matrix.shape[0]),max_indx] = 0\n",
    "\n",
    "print(\"\\nMatrix after replacing max value in each row with 0:\\n\", matrix_with_zeros)\n"
   ]
  }
 ],
 "metadata": {
  "kernelspec": {
   "display_name": "Python 3",
   "language": "python",
   "name": "python3"
  },
  "language_info": {
   "codemirror_mode": {
    "name": "ipython",
    "version": 3
   },
   "file_extension": ".py",
   "mimetype": "text/x-python",
   "name": "python",
   "nbconvert_exporter": "python",
   "pygments_lexer": "ipython3",
   "version": "3.10.11"
  }
 },
 "nbformat": 4,
 "nbformat_minor": 2
}
